{
 "cells": [
  {
   "cell_type": "markdown",
   "metadata": {},
   "source": [
    "# RECTANGLE"
   ]
  },
  {
   "cell_type": "code",
   "execution_count": 2,
   "metadata": {},
   "outputs": [],
   "source": [
    "def area (l,b):\n",
    "    A = l*b\n",
    "    return A"
   ]
  },
  {
   "cell_type": "code",
   "execution_count": 3,
   "metadata": {},
   "outputs": [
    {
     "data": {
      "text/plain": [
       "10"
      ]
     },
     "execution_count": 3,
     "metadata": {},
     "output_type": "execute_result"
    }
   ],
   "source": [
    "area(2,5)"
   ]
  },
  {
   "cell_type": "code",
   "execution_count": 4,
   "metadata": {},
   "outputs": [],
   "source": [
    "def perimiter (l,b):\n",
    "    P = 2*(l+b)\n",
    "    return P"
   ]
  },
  {
   "cell_type": "code",
   "execution_count": 5,
   "metadata": {},
   "outputs": [
    {
     "data": {
      "text/plain": [
       "12"
      ]
     },
     "execution_count": 5,
     "metadata": {},
     "output_type": "execute_result"
    }
   ],
   "source": [
    "perimiter(2,4)"
   ]
  },
  {
   "cell_type": "code",
   "execution_count": 6,
   "metadata": {},
   "outputs": [],
   "source": [
    "class Rectangle():\n",
    "    def __init__(self,l,b):\n",
    "        self.l = l\n",
    "        self.b = b\n",
    "    def area(self):\n",
    "            A = (self.l)*(self.b)\n",
    "            return A\n",
    "    def perimeter(self):\n",
    "            P = 2*(self.l+self.b)\n",
    "            return P"
   ]
  },
  {
   "cell_type": "code",
   "execution_count": 7,
   "metadata": {},
   "outputs": [
    {
     "data": {
      "text/plain": [
       "(8, 12)"
      ]
     },
     "execution_count": 7,
     "metadata": {},
     "output_type": "execute_result"
    }
   ],
   "source": [
    "RR = Rectangle(2,4)\n",
    "RR.area(),RR.perimeter()"
   ]
  },
  {
   "cell_type": "code",
   "execution_count": 8,
   "metadata": {},
   "outputs": [
    {
     "name": "stdout",
     "output_type": "stream",
     "text": [
      "length:  2 breath:  1 area:  2 perimeter:  6\n",
      "length:  2 breath:  3 area:  6 perimeter:  10\n",
      "length:  2 breath:  7 area:  14 perimeter:  18\n",
      "length:  5 breath:  1 area:  5 perimeter:  12\n",
      "length:  5 breath:  3 area:  15 perimeter:  16\n",
      "length:  5 breath:  7 area:  35 perimeter:  24\n",
      "length:  10 breath:  1 area:  10 perimeter:  22\n",
      "length:  10 breath:  3 area:  30 perimeter:  26\n",
      "length:  10 breath:  7 area:  70 perimeter:  34\n"
     ]
    }
   ],
   "source": [
    "for l in [2,5,10]: \n",
    "    for b in [1,3,7]:\n",
    "        RR = Rectangle(l,b)\n",
    "        print (\"length: \" , l,\\\n",
    "               \"breath: \" , b,\\\n",
    "               \"area: \", RR.area(),\\\n",
    "               \"perimeter: \", RR.perimeter())"
   ]
  },
  {
   "cell_type": "code",
   "execution_count": null,
   "metadata": {},
   "outputs": [],
   "source": []
  }
 ],
 "metadata": {
  "kernelspec": {
   "display_name": "Python 3",
   "language": "python",
   "name": "python3"
  },
  "language_info": {
   "codemirror_mode": {
    "name": "ipython",
    "version": 3
   },
   "file_extension": ".py",
   "mimetype": "text/x-python",
   "name": "python",
   "nbconvert_exporter": "python",
   "pygments_lexer": "ipython3",
   "version": "3.7.6"
  }
 },
 "nbformat": 4,
 "nbformat_minor": 4
}
